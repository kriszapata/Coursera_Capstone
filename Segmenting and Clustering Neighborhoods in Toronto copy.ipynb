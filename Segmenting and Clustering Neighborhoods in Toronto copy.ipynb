{
 "cells": [
  {
   "cell_type": "markdown",
   "metadata": {},
   "source": [
    "# SEGMENTING AND CLUSTERING NEIGHBORHOODS IN TORONTO\n",
    "In this workbook, we will explore, segment, and cluster the neighborhoods in the city of Toronto. The neighborhood data is not readily available on the internet,therefore, we'll be required to scrape the data found on a Wikipedia page and wrangle the data, clean it, and then read it into a pandas dataframe so that it is in a structured format. \n",
    "\n",
    "Once the data is in a structured format, we'll use the Foursquare API to explore neighborhoods in Toronto. we'll use the explore function to get the most common venue categories in each neighborhood, and then use this feature to group the neighborhoods into clusters. we'll use the k-means clustering algorithm to complete this task. To finish off, we'll use the Folium library to visualize the neighborhoods in New York City and their emerging clusters."
   ]
  },
  {
   "cell_type": "markdown",
   "metadata": {},
   "source": [
    "## Importing necessary Libraries\n",
    "We start by importing the libraries that are required to carry out the assignment."
   ]
  },
  {
   "cell_type": "code",
   "execution_count": null,
   "metadata": {},
   "outputs": [],
   "source": [
    "import numpy as np # library to handle data in a vectorized manner\n",
    "\n",
    "import pandas as pd # library for data analsysis\n",
    "pd.set_option('display.max_columns', None)\n",
    "pd.set_option('display.max_rows', None)\n",
    "\n",
    "import json # library to handle JSON files\n",
    "\n",
    "!conda install -c conda-forge geopy --yes # uncomment this line if you haven't completed the Foursquare API lab\n",
    "from geopy.geocoders import Nominatim # convert an address into latitude and longitude values\n",
    "\n",
    "import requests # library to handle requests\n",
    "from pandas.io.json import json_normalize # tranform JSON file into a pandas dataframe\n",
    "\n",
    "# Matplotlib and associated plotting modules\n",
    "import matplotlib.cm as cm\n",
    "import matplotlib.colors as colors\n",
    "\n",
    "# import k-means from clustering stage\n",
    "from sklearn.cluster import KMeans\n",
    "\n",
    "#!conda install -c conda-forge folium=0.5.0 --yes # uncomment this line if you haven't completed the Foursquare API lab\n",
    "import folium # map rendering library\n",
    "\n",
    "print('Libraries imported.')"
   ]
  },
  {
   "cell_type": "code",
   "execution_count": null,
   "metadata": {},
   "outputs": [],
   "source": [
    "!pip install beautifulsoup4\n",
    "!pip install lxml\n",
    "import requests # library to handle requests\n",
    "\n",
    "# libraries for displaying images\n",
    "from IPython.display import Image \n",
    "from IPython.core.display import HTML \n",
    "\n",
    "from IPython.display import display_html\n",
    "from bs4 import BeautifulSoup"
   ]
  },
  {
   "cell_type": "markdown",
   "metadata": {},
   "source": [
    "## Retrieval of Canadian Postal Codes\n",
    "We'll be using the BeautifulSoup Library of Python for web scraping the Wikipedia page in order to retrieve the table we need, which contains the postal codes. The title of the webpage is printed to check if the page has been scraped successfully or not. Futhermore, we print the table to verify it's content."
   ]
  },
  {
   "cell_type": "code",
   "execution_count": null,
   "metadata": {},
   "outputs": [],
   "source": [
    "source = requests.get('https://en.wikipedia.org/wiki/List_of_postal_codes_of_Canada:_M').text\n",
    "soup=BeautifulSoup(source,'lxml')\n",
    "print(soup.title)\n",
    "table = str(soup.table)\n",
    "display_html(table,raw=True)"
   ]
  },
  {
   "cell_type": "markdown",
   "metadata": {},
   "source": [
    "## Converting table to Pandas Dataframe\n",
    "We convert the table to a pandas dataframe for cleaning and processing the data at hand."
   ]
  },
  {
   "cell_type": "code",
   "execution_count": null,
   "metadata": {},
   "outputs": [],
   "source": [
    "dfs = pd.read_html(table)\n",
    "df=dfs[0]\n",
    "df.head()"
   ]
  },
  {
   "cell_type": "markdown",
   "metadata": {},
   "source": [
    "## Data Cleaning and Preprocessing\n",
    "In this assignment, we've been ordered to carry out the following instructions regarding data cleaning and preprocessing:\n",
    "- Only process the cells that have an assigned borough. Ignore cells with a borough that is Not assigned.\n",
    "- More than one neighborhood can exist in one postal code area. For example, in the table on the Wikipedia page, you will notice that M5A is listed twice and has two neighborhoods: Harbourfront and Regent Park. These two rows will be combined into one row with the neighborhoods separated with a comma as shown in row 11 in the above table.\n",
    "- If a cell has a borough but a Not assigned neighborhood, then the neighborhood will be the same as the borough."
   ]
  },
  {
   "cell_type": "code",
   "execution_count": null,
   "metadata": {},
   "outputs": [],
   "source": [
    "# Dropping the rows where Borough is 'Not assigned'\n",
    "df1 = df[df.Borough != 'Not assigned']\n",
    "\n",
    "# Combining the neighbourhoods with same Postalcode\n",
    "df2 = df1.groupby(['Postal Code','Borough'], sort=False).agg(', '.join)\n",
    "df2.reset_index(inplace=True)\n",
    "\n",
    "# Replacing the name of the neighbourhoods which are 'Not assigned' with names of Borough\n",
    "df2['Neighbourhood'] = np.where(df2['Neighbourhood'] == 'Not assigned',df2['Borough'], df2['Neighbourhood'])\n",
    "\n",
    "df2"
   ]
  },
  {
   "cell_type": "code",
   "execution_count": null,
   "metadata": {},
   "outputs": [],
   "source": [
    "# Shape of data frame\n",
    "df2.shape"
   ]
  },
  {
   "cell_type": "markdown",
   "metadata": {},
   "source": [
    "## Importing the file containing the geographical coordinates of each postal code"
   ]
  },
  {
   "cell_type": "code",
   "execution_count": null,
   "metadata": {},
   "outputs": [],
   "source": [
    "lat_lon = pd.read_csv('https://cocl.us/Geospatial_data')\n",
    "lat_lon.head()"
   ]
  },
  {
   "cell_type": "markdown",
   "metadata": {},
   "source": [
    "## Merging the two tables into one \n",
    "Now we'll merge the \"df2\" table with the \"lat_lon\" table into one using the \"Postal Code\" column as reference."
   ]
  },
  {
   "cell_type": "code",
   "execution_count": null,
   "metadata": {},
   "outputs": [],
   "source": [
    "df3 = pd.merge(df2,lat_lon,on='Postal Code')\n",
    "df3.head()"
   ]
  },
  {
   "cell_type": "markdown",
   "metadata": {},
   "source": [
    "## Selecting only Boroughs located in Toronto"
   ]
  },
  {
   "cell_type": "code",
   "execution_count": null,
   "metadata": {},
   "outputs": [],
   "source": [
    "df4 = df3[df3['Borough'].str.contains('Toronto',regex=False)]\n",
    "df4"
   ]
  },
  {
   "cell_type": "markdown",
   "metadata": {},
   "source": [
    "## Visualizing the neighborhoods using Folium\n",
    "Now we'll create the folium map displaying the neighborhoods shown in the table above."
   ]
  },
  {
   "cell_type": "code",
   "execution_count": null,
   "metadata": {},
   "outputs": [],
   "source": [
    "map_toronto = folium.Map(location=[43.651070,-79.347015],zoom_start=10)\n",
    "\n",
    "for lat,lng,borough,neighbourhood in zip(df4['Latitude'],df4['Longitude'],df4['Borough'],df4['Neighbourhood']):\n",
    "    label = '{}, {}'.format(neighbourhood, borough)\n",
    "    label = folium.Popup(label, parse_html=True)\n",
    "    folium.CircleMarker(\n",
    "    [lat,lng],\n",
    "    radius=5,\n",
    "    popup=label,\n",
    "    color='green',\n",
    "    fill=True,\n",
    "    fill_color='#3186cc',\n",
    "    fill_opacity=0.7,\n",
    "    parse_html=False).add_to(map_toronto)\n",
    "map_toronto"
   ]
  },
  {
   "cell_type": "markdown",
   "metadata": {},
   "source": [
    "## Using the Kmeans algorithm to cluster the neighborhoods\n",
    "Now we'll use the kmeans algorithm to cluster the neighborhoods."
   ]
  },
  {
   "cell_type": "code",
   "execution_count": null,
   "metadata": {},
   "outputs": [],
   "source": [
    "k=5\n",
    "toronto_clustering = df4.drop(['Postal Code','Borough','Neighbourhood'],1)\n",
    "kmeans = KMeans(n_clusters = k,random_state=0).fit(toronto_clustering)\n",
    "kmeans.labels_\n",
    "df4.insert(0, 'Cluster Labels', kmeans.labels_)"
   ]
  },
  {
   "cell_type": "code",
   "execution_count": null,
   "metadata": {},
   "outputs": [],
   "source": [
    "df4"
   ]
  },
  {
   "cell_type": "markdown",
   "metadata": {},
   "source": [
    "## Displaying the clusters in the map"
   ]
  },
  {
   "cell_type": "code",
   "execution_count": null,
   "metadata": {},
   "outputs": [],
   "source": [
    "# create map\n",
    "map_clusters = folium.Map(location=[43.651070,-79.347015],zoom_start=10)\n",
    "\n",
    "# set color scheme for the clusters\n",
    "x = np.arange(k)\n",
    "ys = [i + x + (i*x)**2 for i in range(k)]\n",
    "colors_array = cm.rainbow(np.linspace(0, 1, len(ys)))\n",
    "rainbow = [colors.rgb2hex(i) for i in colors_array]\n",
    "\n",
    "# add markers to the map\n",
    "markers_colors = []\n",
    "for lat, lon, neighbourhood, cluster in zip(df4['Latitude'], df4['Longitude'], df4['Neighbourhood'], df4['Cluster Labels']):\n",
    "    label = folium.Popup(' Cluster ' + str(cluster), parse_html=True)\n",
    "    folium.CircleMarker(\n",
    "        [lat, lon],\n",
    "        radius=5,\n",
    "        popup=label,\n",
    "        color=rainbow[cluster-1],\n",
    "        fill=True,\n",
    "        fill_color=rainbow[cluster-1],\n",
    "        fill_opacity=0.7).add_to(map_clusters)\n",
    "       \n",
    "map_clusters"
   ]
  },
  {
   "cell_type": "code",
   "execution_count": null,
   "metadata": {},
   "outputs": [],
   "source": []
  }
 ],
 "metadata": {
  "kernelspec": {
   "display_name": "Python 3",
   "language": "python",
   "name": "python3"
  },
  "language_info": {
   "codemirror_mode": {
    "name": "ipython",
    "version": 3
   },
   "file_extension": ".py",
   "mimetype": "text/x-python",
   "name": "python",
   "nbconvert_exporter": "python",
   "pygments_lexer": "ipython3",
   "version": "3.7.6"
  }
 },
 "nbformat": 4,
 "nbformat_minor": 4
}
